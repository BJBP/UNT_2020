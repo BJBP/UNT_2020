{
  "nbformat": 4,
  "nbformat_minor": 0,
  "metadata": {
    "kernelspec": {
      "display_name": "Python 3",
      "language": "python",
      "name": "python3"
    },
    "language_info": {
      "codemirror_mode": {
        "name": "ipython",
        "version": 3
      },
      "file_extension": ".py",
      "mimetype": "text/x-python",
      "name": "python",
      "nbconvert_exporter": "python",
      "pygments_lexer": "ipython3",
      "version": "3.7.3"
    },
    "colab": {
      "name": "Clase_unt_05.ipynb",
      "provenance": [],
      "include_colab_link": true
    }
  },
  "cells": [
    {
      "cell_type": "markdown",
      "metadata": {
        "id": "view-in-github",
        "colab_type": "text"
      },
      "source": [
        "<a href=\"https://colab.research.google.com/github/zavaleta/UNT_2020/blob/master/Clase_unt_05.ipynb\" target=\"_parent\"><img src=\"https://colab.research.google.com/assets/colab-badge.svg\" alt=\"Open In Colab\"/></a>"
      ]
    },
    {
      "cell_type": "markdown",
      "metadata": {
        "id": "d794YNB8f3x1",
        "colab_type": "text"
      },
      "source": [
        "# Curso de Data Science\n",
        "## Universidad Nacional de Trujillo - Perú\n",
        "### Enero 08 a 15 de 2020\n",
        "#### Prof. Dr. Jorge Zavaleta\n",
        "##### zavaleta.jorge@gmail.com"
      ]
    },
    {
      "cell_type": "markdown",
      "metadata": {
        "id": "82ySpKa4f3yD",
        "colab_type": "text"
      },
      "source": [
        "# Aplicaciones"
      ]
    },
    {
      "cell_type": "markdown",
      "metadata": {
        "id": "ylgcr-hOf3yG",
        "colab_type": "text"
      },
      "source": [
        "# Aprendizaje de Máquina - Machine Learning"
      ]
    },
    {
      "cell_type": "markdown",
      "metadata": {
        "id": "nrNDq5Cvf3yI",
        "colab_type": "text"
      },
      "source": [
        "###  Benefícios del Aprendizaje de Máquina"
      ]
    },
    {
      "cell_type": "markdown",
      "metadata": {
        "id": "X9U-K3maf3yL",
        "colab_type": "text"
      },
      "source": [
        "Las organizaciones en una amplia gama de industrias ya han comenzado a experimentar el aprendizaje automático. En algunos casos, los proveedores de software han incorporado el aprendizaje automático en las herramientas utilizadas para un propósito específico, y en otros casos, los usuarios han adaptado las aplicaciones de aprendizaje automático de propósito general a sus necesidades o han desarrollado sus propias aplicaciones analíticas con la ayuda de Científicos de datos.\n",
        "\n",
        "El aprendizaje automático es uno de los pilares de la transformación digital. Actualmente se está utilizando para encontrar nuevas soluciones en diferentes áreas, que incluyen:\n",
        "\n",
        "- **Recomendaciones**: le permite hacer sugerencias de compra personalizadas en plataformas en línea o recomendar música. En su forma más básica, analiza el historial de compras y reproducción del usuario y compara lo que han hecho otros usuarios con tendencias o consumos similares.\n",
        "\n",
        "- **Redes sociales**: Twitter, por ejemplo, utiliza algoritmos de aprendizaje automático para reducir gran parte del spam publicado en la red social. Facebook, a su vez, utiliza para identificar y bloquear automáticamente noticias falsas y contenido no permitido en las transmisiones en vivo.\n",
        "\n",
        "- **Ciberseguridad**: los nuevos motores de identificación antivirus ya utilizan el aprendizaje automático para aumentar el escaneo, acelerar la detección de virus y mejorar la capacidad de reconocer anomalías del sistema.\n",
        "\n",
        "- **Detección de fraude**: los bancos y los operadores de tarjetas de crédito fueron los primeros en utilizar el aprendizaje automático. A menudo usan tecnología para identificar transacciones que pueden ser fraudulentas. Si la compañía de su tarjeta de crédito lo llama para validar una compra específica que ha realizado recientemente, la compañía probablemente haya utilizado el aprendizaje automático para señalar una transacción sospechosa en su cuenta.\n",
        "\n",
        "- **Sistemas de recomendación**: los motores de recomendación en línea utilizados por empresas como Amazon y Netflix se encuentran entre los ejemplos más claros de aprendizaje automático. Utilizando los datos recopilados de millones de compradores y usuarios, los sistemas de aprendizaje automático pueden predecir los artículos que le gusten de acuerdo con sus compras anteriores o sus hábitos de visualización.\n",
        "\n",
        "- **Motores de búsqueda**: Google, Microsoft Bing y otros motores de búsqueda utilizan el aprendizaje automático para mejorar sus capacidades minuto a minuto. Pueden analizar datos sobre qué enlaces hacen clic los usuarios en respuesta a consultas para mejorar sus resultados. También están utilizando el aprendizaje automático para mejorar su procesamiento del lenguaje natural y proporcionar respuestas específicas a algunas preguntas.\n",
        "\n",
        "- **Sistemas de videovigilancia**: el aprendizaje automático permite que los sistemas de reconocimiento facial mejoren todo el tiempo. En algunos casos, estos sistemas pueden identificar criminales conocidos, o pueden identificar comportamientos o actividades que están fuera de la norma o violan la ley.\n",
        "\n",
        "- **Reconocimiento de escritura a mano**: el Servicio Postal de EE. UU. Utiliza el aprendizaje automático para capacitar a su sistema que reconoce las direcciones escritas a mano.\n",
        "\n",
        "- **Procesamiento del lenguaje natural**: hoy, la mayoría de nosotros damos por sentado que los asistentes personales como Siri, Alexa, Cortana o el Asistente de Google podrán comprender las solicitudes de voz y responder preguntas. Con el tiempo, estas herramientas utilizan el aprendizaje automático para mejorar su capacidad de reconocer, comprender y procesar la información verbal.\n",
        "\n",
        "- **Servicio al cliente Bots**: los agentes automatizados pueden utilizar el procesamiento del lenguaje natural y los datos del servicio al cliente para responder preguntas comunes y mejorar la calidad de esas respuestas con el tiempo.\n",
        "\n",
        "- **Seguridad de TI**: muchas de las soluciones de seguridad de TI más avanzadas de la actualidad, como las herramientas de análisis de comportamiento del usuario, utilizan algoritmos de aprendizaje automático para identificar posibles ataques. El aprendizaje automático establece una línea de base de comportamiento \"normal\" que utiliza para detectar anomalías, lo que potencialmente permite a las organizaciones identificar y mitigar las amenazas.\n",
        "\n",
        "- **Análisis de transmisión de datos**: en el mundo de hoy, las 24 horas del día, los 7 días de la semana, una gran cantidad de datos, como las redes sociales y las transacciones de ventas en línea, se actualizan constantemente. Las organizaciones utilizan el aprendizaje automático para encontrar ideas o identificar problemas potenciales en tiempo real.\n",
        "\n",
        "- **Mantenimiento predictivo**: Internet de las cosas (IoT) ofrece muchos casos de uso de aprendizaje automático, incluido el mantenimiento predictivo. Las empresas pueden usar datos históricos de equipos para predecir cuándo es probable que las máquinas fallen, lo que les permite reparar o instalar proactivamente piezas de repuesto antes de que afecte las operaciones comerciales o de fábrica.\n",
        "\n",
        "- **Detección de anomalías**: así como el aprendizaje automático puede identificar comportamientos anómalos en los sistemas de TI, también puede detectar anomalías en productos manufacturados o alimentos. En lugar de contratar inspectores para examinar visualmente los productos, las fábricas pueden usar sistemas de aprendizaje automático que han sido capacitados para identificar artículos que no cumplen con los estándares o especificaciones.\n",
        "\n",
        "- **Pronóstico de la demanda**: en muchas industrias, obtener la cantidad correcta de producto en la ubicación correcta es fundamental para el éxito del negocio. Los sistemas de aprendizaje automático pueden usar datos históricos para predecir ventas con mucha más precisión y rapidez que los humanos por sí solos.\n",
        "\n",
        "- **Logística**: para las empresas de transporte, establecer horarios y rutas es una tarea compleja y que requiere mucho tiempo. Los sistemas de aprendizaje automático pueden ayudar a identificar la forma más eficiente y rentable de transportar mercancías o personas desde el punto A al punto B.\n",
        "\n",
        "- **Operaciones financieras**: todo operador espera encontrar estándares de mercado que le permitan comprar barato y vender caro. Los algoritmos de aprendizaje automático pueden ayudar a identificar oportunidades potenciales basadas en la actividad pasada del mercado.\n",
        "\n",
        "- **Diagnóstico de atención médica**: muchos expertos predicen un futuro en el que las herramientas de diagnóstico de aprendizaje automático trabajarán junto con profesionales humanos para identificar enfermedades y determinar el curso de tratamiento más efectivo. Los sistemas informáticos pueden ser particularmente buenos para detectar anomalías y, en consecuencia, detectar enfermedades raras. Los investigadores del Instituto de Tecnología de Massachusetts (MIT) ya utilizan el aprendizaje automático para identificar el cáncer de seno temprano, lo cual es extremadamente importante ya que la identificación temprana de la enfermedad aumenta la probabilidad de curación. También es altamente efectivo para detectar neumonía y enfermedades de la retina que pueden causar ceguera.\n",
        "\n",
        "- **Vehículos autónomos**: los vehículos autónomos son una de las aplicaciones más fascinantes del aprendizaje automático. En un futuro no muy lejano, los vehículos que pueden navegar solos pueden convertirse en la regla. Según el informe Automotive 2025 de IBM: industria sin fronteras, en 2025 ya veremos autos inteligentes en las calles. Gracias al aprendizaje automático, estos vehículos podrán establecer la configuración interna (temperatura, música, inclinación del respaldo, etc.) de acuerdo con las preferencias del conductor e incluso mover el volante solo para reaccionar al entorno.\n",
        "\n",
        "- **Robots**: aunque eran un elemento básico de la ciencia ficción, los robots con habilidades de aprendizaje automático muy pronto podrían ser parte de la vida cotidiana. Estos robots podrían mejorar sus capacidades con el tiempo, permitiéndoles ser más útiles para los humanos."
      ]
    },
    {
      "cell_type": "markdown",
      "metadata": {
        "id": "-XZZNdVnf3yN",
        "colab_type": "text"
      },
      "source": [
        "## Desafios del Aprendizaje de Máquina"
      ]
    },
    {
      "cell_type": "markdown",
      "metadata": {
        "id": "OolHt8Iyf3yP",
        "colab_type": "text"
      },
      "source": [
        "Desafíos de aprendizaje automático\n",
        "Si bien el aprendizaje automático tiene un gran potencial y ya se está volviendo común, **el campo enfrenta muchos desafíos**: algunos organizativos, algunos tecnológicos y otros filosóficos.\n",
        "\n",
        "**Escasez de profesionales calificados**: las empresas necesitan científicos de datos para operar sus sistemas de aprendizaje automático, y los profesionales con estas habilidades se han convertido en uno de los más buscados. Sus salarios son algunos de los más altos en la industria de la tecnología, y en los últimos años su salario promedio ha aumentado muy rápidamente. Pero capacitar a un Científico de Datos lleva tiempo, y la escasez de estos profesionales aumenta cada día.\n",
        "\n",
        "**Falta de cultura basada en datos**: si bien la mayoría de los ejecutivos entienden los beneficios potenciales de la toma de decisiones basada en datos y la tecnología de aprendizaje automático, hacer que todos en una gran empresa cambien su mentalidad y actividades es a menudo un proceso largo y largo. lento Los defensores del aprendizaje automático a menudo enfrentan obstáculos internos cuando intentan promover la tecnología.\n",
        "\n",
        "**Mala calidad de datos**: los mejores sistemas de inteligencia artificial del mundo no pueden devolver buenas predicciones y conocimientos si los datos que alimentan sus modelos son inexactos. Muchas organizaciones descubren que necesitan mejorar sus procesos de limpieza y gestión de datos antes de poder utilizar completamente el software de aprendizaje automático.\n",
        "\n",
        "**Integración de datos**: en muchas organizaciones, los datos aún residen en aplicaciones heredadas y soluciones de almacenamiento local. Introducir todos estos datos dispares en un sistema de aprendizaje automático puede ser un desafío, pero los proveedores están respondiendo con soluciones que pueden aceptar una amplia variedad de tipos y formatos de datos.\n",
        "\n",
        "**Seguridad de los datos**: puede ser complicado equilibrar la necesidad de restringir el acceso a los datos con la necesidad de utilizar los datos para alimentar los sistemas de aprendizaje automático. Algunas organizaciones pueden necesitar actualizar sus políticas y / o usar herramientas de aprendizaje automático y cifrar datos o hacerlos anónimos.\n",
        "\n",
        "**Requisitos de infraestructura**: los sistemas avanzados de aprendizaje automático funcionan mejor en hardware con GPU. Además, requieren mucho espacio de almacenamiento y capacidades de red adecuadas para mover datos del almacenamiento a las aplicaciones y viceversa.\n",
        "\n",
        "**Dilemas éticos**: la IA se parece cada vez más a los humanos, pero carece del sentido de moralidad que informa la mayoría de las decisiones de toma de decisiones humanas. Por ejemplo, cuando Microsoft lanzó un bot de redes sociales llamado Tay que tenía capacidades de aprendizaje automático, rápidamente aprendió a decir cosas inapropiadas y ofensivas. Algunos expertos instan a las compañías de tecnología a garantizar que los sistemas de IA sigan un estricto conjunto de reglas éticas para evitar que cometan crímenes, dañen a los humanos o incluso destruyan a la raza humana.\n",
        "\n",
        "**Miedo a lo desconocido**: muchas personas encuentran particularmente inquietante la idea de la inteligencia artificial en general o el aprendizaje automático. Les preocupa que las computadoras se hagan cargo de sus trabajos, por una buena razón. Forrester predijo que \"las tecnologías cognitivas como los robots, la inteligencia artificial, el aprendizaje automático y la automatización reemplazarán el 7% de los empleos en Estados Unidos para 2025\". Otros, incluidos Tesla y el CEO de SpaceX, Elon Musk, temen que el aprendizaje automático pueda representar una amenaza existencial para la humanidad. Independientemente de si estos temores se basan o no, las organizaciones tendrán que encontrar una manera de abordarlos si desean experimentar los beneficios potenciales del aprendizaje automático.\n"
      ]
    },
    {
      "cell_type": "markdown",
      "metadata": {
        "id": "ybPcSex6f3yR",
        "colab_type": "text"
      },
      "source": [
        "### El aprendizaje de máquina es un campo prometedor en invistigaciones para los proximos anos. Profesionales que dominen este campo seran buscados en el mercado "
      ]
    },
    {
      "cell_type": "markdown",
      "metadata": {
        "id": "QMK3myTpf3yT",
        "colab_type": "text"
      },
      "source": [
        "# Aprendizaje Profundo - Deep Learning"
      ]
    },
    {
      "cell_type": "markdown",
      "metadata": {
        "id": "5BPFl4Bzf3yU",
        "colab_type": "text"
      },
      "source": [
        "## Beneficios"
      ]
    },
    {
      "cell_type": "markdown",
      "metadata": {
        "id": "tH9-k5T5f3yW",
        "colab_type": "text"
      },
      "source": [
        "Varias investigaciones están avanzando hoy gracias al aprendizaje profundo:\n",
        "\n",
        "- Las mejoras en los algoritmos han impulsado el rendimiento de los métodos de aprendizaje profundo.\n",
        "\n",
        "- Los nuevos enfoques de aprendizaje automático han mejorado la precisión del modelo.\n",
        "\n",
        "- Se están desarrollando nuevas clases de redes neuronales para adaptarse a aplicaciones como la traducción de texto y la clasificación de imágenes.\n",
        "\n",
        "- Tenemos muchos más datos disponibles para construir redes neuronales de capas (camadas) profundas, incluyendo flujos de datos IoT, datos textuales de redes sociales, recetas y transcripciones de investigación.\n",
        "\n",
        "- Los avances computacionales en la distribución en la nube y las unidades de procesamiento de gráficos han puesto a nuestra disposición una increíble potencia informática. Este nivel de cálculo es necesario para entrenar algoritmos de aprendizaje profundo."
      ]
    },
    {
      "cell_type": "markdown",
      "metadata": {
        "id": "cTcVuON0f3yZ",
        "colab_type": "text"
      },
      "source": [
        "## Oportunidades y Aplicaciones"
      ]
    },
    {
      "cell_type": "markdown",
      "metadata": {
        "id": "gjc7awAnf3yb",
        "colab_type": "text"
      },
      "source": [
        "- Se necesita mucha potencia computacional para resolver problemas de aprendizaje profundo debido a la naturaleza iterativa de sus algoritmos, su complejidad que aumenta a medida que aumenta el número de capas y la gran cantidad de datos necesarios para entrenar redes.\n",
        "\n",
        "- La naturaleza dinámica de los métodos de aprendizaje profundo (su capacidad para mejorar y adaptarse continuamente a los patrones cambiantes de la información subyacente) presenta una gran oportunidad para introducir comportamientos más dinámicos en la analítica.\n",
        "\n",
        "- Es posible una mayor personalización en las opiniones de los clientes. Otro es mejorar la precisión y el rendimiento en aplicaciones donde las redes neuronales se han utilizado durante mucho tiempo. A través de mejores algoritmos y más potencia computacional, podemos agregar una gran profundidad.\n",
        "\n",
        "- Aunque el enfoque actual del mercado en las técnicas de aprendizaje profundo es para aplicaciones de computación cognitiva, también existe un gran potencial para aplicaciones analíticas más tradicionales, como el análisis de series de tiempo.\n",
        "\n",
        "- Otra oportunidad es simplemente ser más eficiente y efectivo en las operaciones analíticas existentes. SAS ha probado recientemente redes neuronales profundas para detectar problemas de transcripción de voz a texto. En comparación con las técnicas estándar, la tasa de error se redujo en más del 10% cuando se aplicaron redes neuronales profundas. También eliminaron unos 10 pasos de procesamiento de datos, ingeniería de recursos y modelado. Importantes ganancias de rendimiento y ahorro de tiempo con respecto a la ingeniería de recursos significan un cambio de paradigma."
      ]
    },
    {
      "cell_type": "markdown",
      "metadata": {
        "id": "tjgwOyt8f3yc",
        "colab_type": "text"
      },
      "source": [
        "## Aplicaciones del Deep Learning"
      ]
    },
    {
      "cell_type": "markdown",
      "metadata": {
        "id": "pq2k-4C9f3ye",
        "colab_type": "text"
      },
      "source": [
        "Algunas de las principales aplicaciones de Deep Learning actualmente utilizadas son:\n",
        "\n",
        "- **Reconocimiento de voz**. Las empresas y las universidades han adoptado el aprendizaje profundo para el reconocimiento de voz. Xbox, Skype, Google Now y Siri®, por ejemplo, emplean tecnologías de aprendizaje profundo en sus sistemas para reconocer patrones de voz y voz.\n",
        "\n",
        "- **Procesamiento de lenguaje natural**. Las redes neuronales, un componente central del aprendizaje profundo, se han utilizado para analizar y procesar textos escritos durante muchos años. Una especialización de minería de texto, esta técnica se puede utilizar para descubrir patrones en quejas de clientes, informes médicos o boletines, por ejemplo.\n",
        "\n",
        "- **Reconocimiento de imagen**. Una aplicación práctica del reconocimiento de imágenes es la subtitulación automática (o descripción de la escena). Esto puede ser crucial en las investigaciones penales para identificar actividades de delitos menores en medio de miles de fotos enviadas por los presentes en áreas donde se ha producido un delito. Los automóviles autónomos también se beneficiarán del reconocimiento de imágenes mediante el uso de cámaras con tecnología 360º.\n",
        "\n",
        "- **Sistemas de recomendación**. Amazon y Netflix han popularizado el concepto de sistemas de recomendación con una buena posibilidad de alcanzar lo que podría interesarle después de actuar a partir de comportamientos pasados. El aprendizaje profundo se puede utilizar para mejorar las recomendaciones en entornos complejos como la música o las preferencias de ropa en múltiples plataformas. Comprensión del comportamiento del cliente por parte de sitios de comercio electrónico robustos (Amazon y eBay). En todo momento en el sitio, se recopilan datos del consumidor. Cuanto mayor sea la experiencia en el sitio, mayores serán las posibilidades de realizar la compra. Por lo tanto, el sitio se optimiza con cada acceso a través de los datos generados, de modo que la experiencia para ese cliente sea más atractiva.\n",
        "\n",
        "- **Reconocimiento facial**. Esta aplicación ya se utiliza en sitios de redes sociales, como Facebook, para identificar qué usuarios potenciales están etiquetados en una foto determinada. Sin embargo, se ha utilizado ampliamente hoy en día para sistemas de seguridad. En el Carnaval de 2019, el sistema ayudó a la Policía Militar de Bahía a arrestar a un forajido, reconocido a través de este tipo de sistema.\n",
        "\n",
        "- **Soporte técnico personalizado**, de modo que en muchos casos no se requiere que los asistentes humanos brinden asistencia remota a un cliente. Algunos ejemplos son Clara, Howdy y GridSpace Sift.\n",
        "\n",
        "- **Clasificación de la enfermedad**. Por ejemplo, hoy existen tecnologías que ayudan a los oftalmólogos en los exámenes médicos para identificar, por ejemplo, las retinas afectadas por la diabetes a través del análisis de imágenes.\n",
        "\n",
        "- **Reducción** en el diagnóstico erróneo de cáncer, ayudando a identificar células cancerosas a través de imágenes de ganglios linfáticos.\n",
        "\n",
        "- **Carros autónomos**. A través de una computadora neuronal diferenciable (DNC), cuando se le presentan mapas, líneas y paradas, el automóvil puede conducir una ruta más corta, lo que facilita el viaje."
      ]
    },
    {
      "cell_type": "markdown",
      "metadata": {
        "id": "iJMZul-lf3yg",
        "colab_type": "text"
      },
      "source": [
        "# Kaggle - https://www.kaggle.com/"
      ]
    },
    {
      "cell_type": "markdown",
      "metadata": {
        "id": "oUGFxs14f3yi",
        "colab_type": "text"
      },
      "source": [
        "# UCI Machine Learning Repository: https://archive.ics.uci.edu/ml/datasets.php"
      ]
    },
    {
      "cell_type": "code",
      "metadata": {
        "id": "RADLCfBff3yk",
        "colab_type": "code",
        "colab": {}
      },
      "source": [
        ""
      ],
      "execution_count": 0,
      "outputs": []
    }
  ]
}