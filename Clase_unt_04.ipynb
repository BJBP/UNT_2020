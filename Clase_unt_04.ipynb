{
  "nbformat": 4,
  "nbformat_minor": 0,
  "metadata": {
    "kernelspec": {
      "display_name": "Python 3",
      "language": "python",
      "name": "python3"
    },
    "language_info": {
      "codemirror_mode": {
        "name": "ipython",
        "version": 3
      },
      "file_extension": ".py",
      "mimetype": "text/x-python",
      "name": "python",
      "nbconvert_exporter": "python",
      "pygments_lexer": "ipython3",
      "version": "3.7.3"
    },
    "colab": {
      "name": "Clase_unt_04.ipynb",
      "provenance": [],
      "include_colab_link": true
    }
  },
  "cells": [
    {
      "cell_type": "markdown",
      "metadata": {
        "id": "view-in-github",
        "colab_type": "text"
      },
      "source": [
        "<a href=\"https://colab.research.google.com/github/zavaleta/UNT_2020/blob/master/Clase_unt_04.ipynb\" target=\"_parent\"><img src=\"https://colab.research.google.com/assets/colab-badge.svg\" alt=\"Open In Colab\"/></a>"
      ]
    },
    {
      "cell_type": "markdown",
      "metadata": {
        "id": "DCdyMM9IvzqT",
        "colab_type": "text"
      },
      "source": [
        "# Curso de Data Science\n",
        "## Universidad Nacional de Trujillo - Perú\n",
        "### Enero 08 a 15 de 2020\n",
        "#### Prof. Dr. Jorge Zavaleta\n",
        "##### zavaleta.jorge@gmail.com"
      ]
    },
    {
      "cell_type": "markdown",
      "metadata": {
        "id": "d4NEbn8kvzqh",
        "colab_type": "text"
      },
      "source": [
        "## Deep Learning (aprendizaje profundo)"
      ]
    },
    {
      "cell_type": "markdown",
      "metadata": {
        "id": "sdlb40CRvzqm",
        "colab_type": "text"
      },
      "source": [
        "El aprendizaje profundo (Deep Learning), tambien conocido como aprendizaje estruturado profundo es una rama del aprendizaje de máquina basado en un conjunto de algoritmos que intentan modelar abstracciones de alto nivel de datos usando un grafo profundo con varias camadas de procesamiento, compuesta de varias transformaciones lineares y no leneares. Una de las promesas del aprendizaje profundo es la subtitución de características hechas manualmente por algoritmos eficientes por un aprendizaje de caracteristicas supervisionadas o semisupervisionadas y extracción jerárquica de características."
      ]
    },
    {
      "cell_type": "markdown",
      "metadata": {
        "id": "sc8s6Zcyvzqr",
        "colab_type": "text"
      },
      "source": [
        "![image.png](attachment:image.png)"
      ]
    },
    {
      "cell_type": "markdown",
      "metadata": {
        "id": "GUe1cWFpvzqy",
        "colab_type": "text"
      },
      "source": [
        "El aprendizaje profundo es responsable por los ultimos avanzes en visión computacional, reconocimiento de voz, procesamiento de lenguaje natural (PLN) y reconocimiento de sonido. El aprendizaje profundo esta basado en el concepto de redes neurales artificiales, o sistemas computacionales que imitan la manera como el cerebro humano funciona."
      ]
    },
    {
      "cell_type": "markdown",
      "metadata": {
        "id": "jieHKVTMvzq5",
        "colab_type": "text"
      },
      "source": [
        "# Funcionamiento del Deep Learning\n",
        "\n",
        "Un modelo de aprendizaje profundo es projectado para analisar continuamente los datos con una estructura lógica semejante a la manera como un ser humano llegaria a conclusiones.\n",
        "\n",
        "Para conseguir eso, los aplicativos de aprendizaje profundo usam una estructura en camadas de algoritmos llamada de red neural artificial.\n",
        "\n",
        "El diseño de una RNA es inspirado en la red biologica del cerebro humano, llevando a un proceso de aprendizaje mucho mas capaz a los realizados por los modelos estandares del aprendizado de máquina."
      ]
    },
    {
      "cell_type": "markdown",
      "metadata": {
        "id": "kpMcHHAsvzrA",
        "colab_type": "text"
      },
      "source": [
        "## Ejemplos practicos"
      ]
    },
    {
      "cell_type": "markdown",
      "metadata": {
        "id": "2D4ALvc3vzrI",
        "colab_type": "text"
      },
      "source": [
        "### Asistentes Virtuales"
      ]
    },
    {
      "cell_type": "markdown",
      "metadata": {
        "id": "bUPJCOudvzrQ",
        "colab_type": "text"
      },
      "source": [
        "Los asistentes virtuales de proveedoresde servicios on-line usan el aperendizaje profundo para ajudar a entender su discurso y el lenguaje que los humanos usan para interajir entre ellos.\n",
        "- Alexa - https://www.showmetech.com.br/como-moderniza-sua-casa-com-a-amazon-echo/\n",
        "- Siri - https://www.apple.com/br/siri/\n",
        "- Cortana do Windows"
      ]
    },
    {
      "cell_type": "markdown",
      "metadata": {
        "id": "X2fKOLrcvzrV",
        "colab_type": "text"
      },
      "source": [
        "### Traducciones"
      ]
    },
    {
      "cell_type": "markdown",
      "metadata": {
        "id": "7NhYhRv0vzrY",
        "colab_type": "text"
      },
      "source": [
        "Los algoritmos de aprendizaje profundo puede produzir automaticamente diversos tipos de idiomas. Herramienta poderosa para viajantes, personas de negocios y personas de gobierno que precisan de una traducción rápida y eficiente."
      ]
    },
    {
      "cell_type": "markdown",
      "metadata": {
        "id": "yRYRq7Ouvzrc",
        "colab_type": "text"
      },
      "source": [
        "### Visión para camiones de entrega sin motorista, drones y carros autonomos"
      ]
    },
    {
      "cell_type": "markdown",
      "metadata": {
        "id": "tQGCyUVyvzrg",
        "colab_type": "text"
      },
      "source": [
        "La manera como un carro autonomo comprende las realidades das carreteras y como responder a ellas, sea una señal para parar, una bola en la calle, u otro carro, es atravez de algoritmos de aprendizaje profundo. Cuantos mas datos estos algoritmos reciben, mejor ellos son capazes de actuar como seres humanos en su procesamiento de informaciones. "
      ]
    },
    {
      "cell_type": "markdown",
      "metadata": {
        "id": "i81qK-6fvzrk",
        "colab_type": "text"
      },
      "source": [
        "### Servicio de Chatbots y bots"
      ]
    },
    {
      "cell_type": "markdown",
      "metadata": {
        "id": "kej7coW6vzrv",
        "colab_type": "text"
      },
      "source": [
        "Los servicios de **Chatbots** y **robots** proporcionan atendimiento a los clientes para muchas empresas son capazes de responder de una manera inteligente y util a una cantidad creciente de preguntas auditivas y de texto, gracias al aprendizaje profundo."
      ]
    },
    {
      "cell_type": "markdown",
      "metadata": {
        "id": "tp_jzXKnvzrx",
        "colab_type": "text"
      },
      "source": [
        "### Colorización de imagenes"
      ]
    },
    {
      "cell_type": "markdown",
      "metadata": {
        "id": "8AA9UK72vzr0",
        "colab_type": "text"
      },
      "source": [
        "Transformar imagenes de negro y blanco en colores que es una tarea compleja hecho a mano. Actualmente, los algoritmos de aprendizaje profunda son capazes de usar el contexto y los objetos en las imagenes para colorirlos, basicamente, para recrear la imagen en negro y blanco en colores. Los resultados son impresionantes y precisos."
      ]
    },
    {
      "cell_type": "markdown",
      "metadata": {
        "id": "cGmrAFOxvzuT",
        "colab_type": "text"
      },
      "source": [
        "### Reconocimiento facial"
      ]
    },
    {
      "cell_type": "markdown",
      "metadata": {
        "id": "QG1aKO0YvzuX",
        "colab_type": "text"
      },
      "source": [
        "El aprendizaje profundo está siendo utilizando para el reconocimiento facial, por razones de seguridad, para etiquetar\n",
        "a las personas en las publicaciones de Facebook y es posible que podamos pagar los artículos en una tienda simplemente usando nuestras caras en un futuro cercano. Los desafíos para los algoritmos de aprendizaje profundo para el reconocimiento facial es saber que son la misma persona incluso cuando cambian su peinado, crecen o se afeitan el cabello, o si la imagen capturada es mala debido a una iluminación deficiente o una obstrucción."
      ]
    },
    {
      "cell_type": "markdown",
      "metadata": {
        "id": "1Gq4s7auvzua",
        "colab_type": "text"
      },
      "source": [
        "### Medicina y Farmacéutica"
      ]
    },
    {
      "cell_type": "markdown",
      "metadata": {
        "id": "v1IlLn7lvzue",
        "colab_type": "text"
      },
      "source": [
        "Desde diagnósticos de enfermedades y tumores hasta medicamentos personalizados diseñados específicamente para el genoma de un individuo, el aprendizaje médico en profundidad tiene la atención de muchas de las compañías farmacéuticas y médicas más grandes."
      ]
    },
    {
      "cell_type": "markdown",
      "metadata": {
        "id": "8K55w5Yavzuh",
        "colab_type": "text"
      },
      "source": [
        "### Compras y entretenimientos personalizados"
      ]
    },
    {
      "cell_type": "markdown",
      "metadata": {
        "id": "DMVoKc9_vzuj",
        "colab_type": "text"
      },
      "source": [
        "Você já se perguntou como a Netflix apresenta sugestões para o que você deve assistir a seguir? Ou onde a Amazon surge com idéias para o que você deve comprar em seguida e essas sugestões são exatamente o que você precisa, mas nunca soube disso antes? Sim, é algoritmo de aprendizagem profunda no trabalho.\n",
        "\n",
        "¿Alguna vez se preguntó cómo Netflix ofrece sugerencias sobre qué ver a continuación? ¿O dónde Amazon presenta ideas sobre qué comprar a continuación y estas sugerencias son exactamente lo que necesita, pero nunca lo supo antes? Sí, es un algoritmo de aprendizaje profundo en el trabajo."
      ]
    },
    {
      "cell_type": "markdown",
      "metadata": {
        "id": "CLRGqTiMvzul",
        "colab_type": "text"
      },
      "source": [
        "# Herramientas para Aprendizado Profundo"
      ]
    },
    {
      "cell_type": "markdown",
      "metadata": {
        "id": "ngBk_R0avzur",
        "colab_type": "text"
      },
      "source": [
        "![image.png](attachment:image.png)"
      ]
    },
    {
      "cell_type": "markdown",
      "metadata": {
        "id": "-aSRIjbOvzuv",
        "colab_type": "text"
      },
      "source": [
        "## Keras\n",
        "Keras es una API de Redes Neurales de alto nivel escrito en Python y puede executarse sobre TensorFlow, Theano y CNTK.\n",
        "\n",
        "Se deve usar el Keras cuando sea necesario una biblioteca de aprendizaje profundo que:\n",
        "\n",
        "- Permite la creación de prototipos fácil y rápida (a través de la facilidad de uso, la modularidad y la extensibilidad).\n",
        "- Admite redes convolucionales y redes recurrentes, así como combinaciones de las dos.\n",
        "- Se ejecuta sin problemas en CPU y GPU."
      ]
    },
    {
      "cell_type": "markdown",
      "metadata": {
        "id": "2yGsM3dWvzux",
        "colab_type": "text"
      },
      "source": [
        "## TensorFlow\n",
        "\n",
        "TensorFlow es una biblioteca de aprendizaje automático de código abierto aplicable a una amplia variedad de tareas. Es un sistema para crear y entrenar redes neuronales para detectar y descifrar patrones y correlaciones, de forma análoga a la forma en que los humanos aprenden y razonan."
      ]
    },
    {
      "cell_type": "markdown",
      "metadata": {
        "id": "IHlxGZDMvzu0",
        "colab_type": "text"
      },
      "source": [
        "### Theano\n",
        "\n",
        "Theano es una biblioteca de Python y un compilador de optimización para manipular y evaluar expresiones matemáticas, especialmente aquellas con valor de matriz. \n",
        "\n",
        "En Theano, los cálculos se expresan utilizando la sintaxis NumPy y se compilan para funcionar de manera eficiente en arquitecturas de CPU o GPU."
      ]
    },
    {
      "cell_type": "markdown",
      "metadata": {
        "id": "sMpaI0rKvzu2",
        "colab_type": "text"
      },
      "source": [
        "### CNTK\n",
        "\n",
        "Microsoft Cognitive Toolkit, anteriormente conocido como **CNTK** y a veces llamado The Microsoft Cognitive Toolkit, es un marco de aprendizaje profundo desarrollado por Microsoft Research."
      ]
    },
    {
      "cell_type": "markdown",
      "metadata": {
        "id": "tTKe8eaGvzu4",
        "colab_type": "text"
      },
      "source": [
        "## Redes convulucionales - CNN"
      ]
    },
    {
      "cell_type": "markdown",
      "metadata": {
        "id": "jYTIpBcuvzu7",
        "colab_type": "text"
      },
      "source": [
        "![image.png](attachment:image.png)"
      ]
    },
    {
      "cell_type": "markdown",
      "metadata": {
        "id": "5akWOZIavzu_",
        "colab_type": "text"
      },
      "source": [
        "La CNN es un tipo de Red Neuronal Artificial con aprendizaje supervisado que procesa sus capas imitando al cortex visual del ojo humano para identificar distintas características en las entradas que en definitiva hacen que pueda identificar objetos y «ver». Para ello, la CNN contiene varias capas ocultas especializadas y con una jerarquía: esto quiere decir que las primeras capas pueden detectar lineas, curvas y se van especializando hasta llegar a capas más profundas que reconocen formas complejas como un rostro o la silueta de un animal."
      ]
    },
    {
      "cell_type": "markdown",
      "metadata": {
        "id": "8L0C2zw4vzvB",
        "colab_type": "text"
      },
      "source": [
        "![image.png](attachment:image.png)"
      ]
    },
    {
      "cell_type": "markdown",
      "metadata": {
        "id": "V87sOAKpvzvF",
        "colab_type": "text"
      },
      "source": [
        "![image.png](attachment:image.png)"
      ]
    },
    {
      "cell_type": "markdown",
      "metadata": {
        "id": "3aUHrvKZvzvI",
        "colab_type": "text"
      },
      "source": [
        "## Ejemplo 1 - Keras"
      ]
    },
    {
      "cell_type": "code",
      "metadata": {
        "id": "b0F7BMT6vzvK",
        "colab_type": "code",
        "colab": {}
      },
      "source": [
        "## conda install -c conda-forge keras"
      ],
      "execution_count": 0,
      "outputs": []
    },
    {
      "cell_type": "code",
      "metadata": {
        "id": "ESYLMrG5vzvb",
        "colab_type": "code",
        "colab": {}
      },
      "source": [
        "# from keras.layers import Activation, Dense\n",
        "# from keras.models import Sequential\n",
        "# model = Sequential()\n",
        "# model.add(Dense(12, input_dim=8, kernel_initializer='random_uniform'))"
      ],
      "execution_count": 0,
      "outputs": []
    },
    {
      "cell_type": "code",
      "metadata": {
        "id": "PsWqZFVYvzvj",
        "colab_type": "code",
        "colab": {},
        "outputId": "6ec4f2a2-0158-44b0-9a8d-5dae4d038080"
      },
      "source": [
        "from __future__ import print_function\n",
        "import numpy as np\n",
        "from keras.datasets import mnist\n",
        "from keras.models import Sequential\n",
        "from keras.layers.core import Dense, Activation\n",
        "from keras.optimizers import SGD\n",
        "from keras.utils import np_utils\n",
        "np.random.seed(1671) # for reproducibility"
      ],
      "execution_count": 0,
      "outputs": [
        {
          "output_type": "stream",
          "text": [
            "Using TensorFlow backend.\n"
          ],
          "name": "stderr"
        }
      ]
    },
    {
      "cell_type": "code",
      "metadata": {
        "id": "DR4o5tgHvzvy",
        "colab_type": "code",
        "colab": {}
      },
      "source": [
        "# network and training\n",
        "NB_EPOCH = 200\n",
        "BATCH_SIZE = 128\n",
        "VERBOSE = 1\n",
        "NB_CLASSES = 10 # number of outputs = number of digits\n",
        "OPTIMIZER = SGD() # SGD optimizer, explained later in this chapter\n",
        "N_HIDDEN = 128\n",
        "VALIDATION_SPLIT=0.2 # how much TRAIN is reserved for VALIDATION"
      ],
      "execution_count": 0,
      "outputs": []
    },
    {
      "cell_type": "code",
      "metadata": {
        "id": "e1TsSyqvvzv3",
        "colab_type": "code",
        "colab": {},
        "outputId": "95259bed-e658-4d68-bd8f-b525ff246044"
      },
      "source": [
        "# data: shuffled and split between train and test sets\n",
        "#\n",
        "(X_train, y_train), (X_test, y_test) = mnist.load_data()\n",
        "#X_train is 60000 rows of 28x28 values --> reshaped in 60000 x 784\n",
        "RESHAPED = 784\n",
        "#X\n",
        "X_train = X_train.reshape(60000, RESHAPED)\n",
        "X_test = X_test.reshape(10000, RESHAPED)\n",
        "X_train = X_train.astype('float32')\n",
        "X_test = X_test.astype('float32')\n",
        "# normalize\n",
        "#X\n",
        "X_train /= 255\n",
        "X_test /= 255\n",
        "print(X_train.shape[0], 'ejemplo de entrenamiento')\n",
        "print(X_test.shape[0], 'ejemplo de teste')\n",
        "# convert class vectors to binary class matrices\n",
        "Y_train = np_utils.to_categorical(y_train, NB_CLASSES)\n",
        "Y_test = np_utils.to_categorical(y_test, NB_CLASSES)"
      ],
      "execution_count": 0,
      "outputs": [
        {
          "output_type": "stream",
          "text": [
            "60000 ejemplo de entrenamiento\n",
            "10000 ejemplo de teste\n"
          ],
          "name": "stdout"
        }
      ]
    },
    {
      "cell_type": "code",
      "metadata": {
        "id": "22vTtDfovzv9",
        "colab_type": "code",
        "colab": {},
        "outputId": "3e7e3617-ebc1-4926-df7e-24beef74d427"
      },
      "source": [
        "# 10 outputs\n",
        "# final stage is softmax\n",
        "model = Sequential()\n",
        "model.add(Dense(NB_CLASSES, input_shape=(RESHAPED,)))\n",
        "model.add(Activation('softmax'))\n",
        "model.summary()"
      ],
      "execution_count": 0,
      "outputs": [
        {
          "output_type": "stream",
          "text": [
            "Model: \"sequential_1\"\n",
            "_________________________________________________________________\n",
            "Layer (type)                 Output Shape              Param #   \n",
            "=================================================================\n",
            "dense_1 (Dense)              (None, 10)                7850      \n",
            "_________________________________________________________________\n",
            "activation_1 (Activation)    (None, 10)                0         \n",
            "=================================================================\n",
            "Total params: 7,850\n",
            "Trainable params: 7,850\n",
            "Non-trainable params: 0\n",
            "_________________________________________________________________\n"
          ],
          "name": "stdout"
        }
      ]
    },
    {
      "cell_type": "code",
      "metadata": {
        "id": "qReeDVgtvzwH",
        "colab_type": "code",
        "colab": {}
      },
      "source": [
        "model.compile(loss='categorical_crossentropy', optimizer=OPTIMIZER, metrics=['accuracy'])"
      ],
      "execution_count": 0,
      "outputs": []
    },
    {
      "cell_type": "code",
      "metadata": {
        "id": "gR6UjPk1vzwN",
        "colab_type": "code",
        "colab": {},
        "outputId": "c90fbd93-171c-4817-fb4c-0ac5de05cc62"
      },
      "source": [
        "history = model.fit(X_train, Y_train,\n",
        "batch_size=BATCH_SIZE, epochs=NB_EPOCH,\n",
        "verbose=VERBOSE, validation_split=VALIDATION_SPLIT)"
      ],
      "execution_count": 0,
      "outputs": [
        {
          "output_type": "stream",
          "text": [
            "Train on 48000 samples, validate on 12000 samples\n",
            "Epoch 1/200\n",
            "48000/48000 [==============================] - 6s 124us/step - loss: 1.3633 - accuracy: 0.6796 - val_loss: 0.8904 - val_accuracy: 0.8246\n",
            "Epoch 2/200\n",
            "48000/48000 [==============================] - 2s 46us/step - loss: 0.7913 - accuracy: 0.8272 - val_loss: 0.6572 - val_accuracy: 0.8546\n",
            "Epoch 3/200\n",
            "48000/48000 [==============================] - 2s 47us/step - loss: 0.6436 - accuracy: 0.8497 - val_loss: 0.5625 - val_accuracy: 0.8681\n",
            "Epoch 4/200\n",
            "48000/48000 [==============================] - 2s 48us/step - loss: 0.5717 - accuracy: 0.8602 - val_loss: 0.5098 - val_accuracy: 0.8765\n",
            "Epoch 5/200\n",
            "48000/48000 [==============================] - 2s 47us/step - loss: 0.5276 - accuracy: 0.8677 - val_loss: 0.4758 - val_accuracy: 0.8826\n",
            "Epoch 6/200\n",
            "48000/48000 [==============================] - 2s 49us/step - loss: 0.4973 - accuracy: 0.8726 - val_loss: 0.4515 - val_accuracy: 0.8866\n",
            "Epoch 7/200\n",
            "48000/48000 [==============================] - 3s 53us/step - loss: 0.4748 - accuracy: 0.8775 - val_loss: 0.4333 - val_accuracy: 0.8882\n",
            "Epoch 8/200\n",
            "48000/48000 [==============================] - 2s 43us/step - loss: 0.4574 - accuracy: 0.8803 - val_loss: 0.4189 - val_accuracy: 0.8920\n",
            "Epoch 9/200\n",
            "48000/48000 [==============================] - 3s 54us/step - loss: 0.4433 - accuracy: 0.8834 - val_loss: 0.4075 - val_accuracy: 0.8939\n",
            "Epoch 10/200\n",
            "48000/48000 [==============================] - 3s 57us/step - loss: 0.4317 - accuracy: 0.8850 - val_loss: 0.3977 - val_accuracy: 0.8966\n",
            "Epoch 11/200\n",
            "48000/48000 [==============================] - 3s 53us/step - loss: 0.4218 - accuracy: 0.8873 - val_loss: 0.3896 - val_accuracy: 0.8984\n",
            "Epoch 12/200\n",
            "48000/48000 [==============================] - 3s 63us/step - loss: 0.4134 - accuracy: 0.8888 - val_loss: 0.3827 - val_accuracy: 0.8995\n",
            "Epoch 13/200\n",
            "48000/48000 [==============================] - 3s 56us/step - loss: 0.4060 - accuracy: 0.8903 - val_loss: 0.3766 - val_accuracy: 0.9003\n",
            "Epoch 14/200\n",
            "48000/48000 [==============================] - 2s 50us/step - loss: 0.3995 - accuracy: 0.8918 - val_loss: 0.3712 - val_accuracy: 0.9013\n",
            "Epoch 15/200\n",
            "48000/48000 [==============================] - 2s 48us/step - loss: 0.3936 - accuracy: 0.8928 - val_loss: 0.3664 - val_accuracy: 0.9016\n",
            "Epoch 16/200\n",
            "48000/48000 [==============================] - 2s 49us/step - loss: 0.3884 - accuracy: 0.8945 - val_loss: 0.3621 - val_accuracy: 0.9031\n",
            "Epoch 17/200\n",
            "48000/48000 [==============================] - 2s 48us/step - loss: 0.3837 - accuracy: 0.8950 - val_loss: 0.3582 - val_accuracy: 0.9032\n",
            "Epoch 18/200\n",
            "48000/48000 [==============================] - 2s 49us/step - loss: 0.3794 - accuracy: 0.8962 - val_loss: 0.3546 - val_accuracy: 0.9039\n",
            "Epoch 19/200\n",
            "48000/48000 [==============================] - 2s 50us/step - loss: 0.3755 - accuracy: 0.8970 - val_loss: 0.3514 - val_accuracy: 0.9048\n",
            "Epoch 20/200\n",
            "48000/48000 [==============================] - 3s 56us/step - loss: 0.3718 - accuracy: 0.8979 - val_loss: 0.3485 - val_accuracy: 0.9053\n",
            "Epoch 21/200\n",
            "48000/48000 [==============================] - 2s 48us/step - loss: 0.3685 - accuracy: 0.8985 - val_loss: 0.3457 - val_accuracy: 0.9058\n",
            "Epoch 22/200\n",
            "48000/48000 [==============================] - 2s 48us/step - loss: 0.3653 - accuracy: 0.8995 - val_loss: 0.3431 - val_accuracy: 0.9057\n",
            "Epoch 23/200\n",
            "48000/48000 [==============================] - 2s 50us/step - loss: 0.3625 - accuracy: 0.8999 - val_loss: 0.3407 - val_accuracy: 0.9063\n",
            "Epoch 24/200\n",
            "48000/48000 [==============================] - 2s 50us/step - loss: 0.3598 - accuracy: 0.9008 - val_loss: 0.3385 - val_accuracy: 0.9070\n",
            "Epoch 25/200\n",
            "48000/48000 [==============================] - 3s 57us/step - loss: 0.3572 - accuracy: 0.9012 - val_loss: 0.3364 - val_accuracy: 0.9074\n",
            "Epoch 26/200\n",
            "48000/48000 [==============================] - 2s 48us/step - loss: 0.3548 - accuracy: 0.9019 - val_loss: 0.3345 - val_accuracy: 0.9084\n",
            "Epoch 27/200\n",
            "48000/48000 [==============================] - 2s 50us/step - loss: 0.3525 - accuracy: 0.9022 - val_loss: 0.3326 - val_accuracy: 0.9082\n",
            "Epoch 28/200\n",
            "48000/48000 [==============================] - 3s 55us/step - loss: 0.3504 - accuracy: 0.9032 - val_loss: 0.3311 - val_accuracy: 0.9090\n",
            "Epoch 29/200\n",
            "48000/48000 [==============================] - 3s 54us/step - loss: 0.3484 - accuracy: 0.9031 - val_loss: 0.3293 - val_accuracy: 0.9094\n",
            "Epoch 30/200\n",
            "48000/48000 [==============================] - 2s 50us/step - loss: 0.3465 - accuracy: 0.9041 - val_loss: 0.3277 - val_accuracy: 0.9097\n",
            "Epoch 31/200\n",
            "48000/48000 [==============================] - 3s 54us/step - loss: 0.3447 - accuracy: 0.9044 - val_loss: 0.3264 - val_accuracy: 0.9097\n",
            "Epoch 32/200\n",
            "48000/48000 [==============================] - 3s 58us/step - loss: 0.3430 - accuracy: 0.9047 - val_loss: 0.3249 - val_accuracy: 0.9097\n",
            "Epoch 33/200\n",
            "48000/48000 [==============================] - 2s 50us/step - loss: 0.3413 - accuracy: 0.9051 - val_loss: 0.3235 - val_accuracy: 0.9103\n",
            "Epoch 34/200\n",
            "48000/48000 [==============================] - 3s 55us/step - loss: 0.3397 - accuracy: 0.9056 - val_loss: 0.3222 - val_accuracy: 0.9104\n",
            "Epoch 35/200\n",
            "48000/48000 [==============================] - 2s 50us/step - loss: 0.3382 - accuracy: 0.9058 - val_loss: 0.3211 - val_accuracy: 0.9110\n",
            "Epoch 36/200\n",
            "48000/48000 [==============================] - 2s 50us/step - loss: 0.3368 - accuracy: 0.9062 - val_loss: 0.3198 - val_accuracy: 0.9110\n",
            "Epoch 37/200\n",
            "48000/48000 [==============================] - 2s 47us/step - loss: 0.3353 - accuracy: 0.9069 - val_loss: 0.3187 - val_accuracy: 0.9117\n",
            "Epoch 38/200\n",
            "48000/48000 [==============================] - 2s 48us/step - loss: 0.3340 - accuracy: 0.9075 - val_loss: 0.3177 - val_accuracy: 0.9120\n",
            "Epoch 39/200\n",
            "48000/48000 [==============================] - 2s 46us/step - loss: 0.3327 - accuracy: 0.9075 - val_loss: 0.3166 - val_accuracy: 0.9122\n",
            "Epoch 40/200\n",
            "48000/48000 [==============================] - 2s 47us/step - loss: 0.3314 - accuracy: 0.9078 - val_loss: 0.3159 - val_accuracy: 0.9118\n",
            "Epoch 41/200\n",
            "48000/48000 [==============================] - 2s 44us/step - loss: 0.3303 - accuracy: 0.9080 - val_loss: 0.3147 - val_accuracy: 0.9128\n",
            "Epoch 42/200\n",
            "48000/48000 [==============================] - 2s 43us/step - loss: 0.3291 - accuracy: 0.9084 - val_loss: 0.3138 - val_accuracy: 0.9132\n",
            "Epoch 43/200\n",
            "48000/48000 [==============================] - 2s 43us/step - loss: 0.3280 - accuracy: 0.9089 - val_loss: 0.3130 - val_accuracy: 0.9132\n",
            "Epoch 44/200\n",
            "48000/48000 [==============================] - 2s 44us/step - loss: 0.3270 - accuracy: 0.9091 - val_loss: 0.3121 - val_accuracy: 0.9132\n",
            "Epoch 45/200\n",
            "48000/48000 [==============================] - 2s 43us/step - loss: 0.3259 - accuracy: 0.9093 - val_loss: 0.3113 - val_accuracy: 0.9135\n",
            "Epoch 46/200\n",
            "48000/48000 [==============================] - 2s 44us/step - loss: 0.3249 - accuracy: 0.9095 - val_loss: 0.3105 - val_accuracy: 0.9137\n",
            "Epoch 47/200\n",
            "48000/48000 [==============================] - 2s 43us/step - loss: 0.3239 - accuracy: 0.9105 - val_loss: 0.3098 - val_accuracy: 0.9141\n",
            "Epoch 48/200\n",
            "48000/48000 [==============================] - 2s 43us/step - loss: 0.3230 - accuracy: 0.9105 - val_loss: 0.3090 - val_accuracy: 0.9146\n",
            "Epoch 49/200\n",
            "48000/48000 [==============================] - 2s 43us/step - loss: 0.3221 - accuracy: 0.9102 - val_loss: 0.3083 - val_accuracy: 0.9151\n",
            "Epoch 50/200\n",
            "48000/48000 [==============================] - 2s 43us/step - loss: 0.3212 - accuracy: 0.9109 - val_loss: 0.3075 - val_accuracy: 0.9150\n",
            "Epoch 51/200\n",
            "48000/48000 [==============================] - 2s 45us/step - loss: 0.3204 - accuracy: 0.9108 - val_loss: 0.3070 - val_accuracy: 0.9151\n",
            "Epoch 52/200\n",
            "48000/48000 [==============================] - 2s 43us/step - loss: 0.3195 - accuracy: 0.9112 - val_loss: 0.3063 - val_accuracy: 0.9148\n",
            "Epoch 53/200\n",
            "48000/48000 [==============================] - 2s 44us/step - loss: 0.3187 - accuracy: 0.9114 - val_loss: 0.3057 - val_accuracy: 0.9153\n",
            "Epoch 54/200\n",
            "48000/48000 [==============================] - 2s 43us/step - loss: 0.3180 - accuracy: 0.9117 - val_loss: 0.3050 - val_accuracy: 0.9149\n",
            "Epoch 55/200\n",
            "48000/48000 [==============================] - 2s 44us/step - loss: 0.3172 - accuracy: 0.9121 - val_loss: 0.3044 - val_accuracy: 0.9149\n"
          ],
          "name": "stdout"
        },
        {
          "output_type": "stream",
          "text": [
            "Epoch 56/200\n",
            "48000/48000 [==============================] - 2s 43us/step - loss: 0.3164 - accuracy: 0.9120 - val_loss: 0.3037 - val_accuracy: 0.9156\n",
            "Epoch 57/200\n",
            "48000/48000 [==============================] - 2s 42us/step - loss: 0.3157 - accuracy: 0.9128 - val_loss: 0.3034 - val_accuracy: 0.9152\n",
            "Epoch 58/200\n",
            "48000/48000 [==============================] - 2s 43us/step - loss: 0.3149 - accuracy: 0.9121 - val_loss: 0.3029 - val_accuracy: 0.9148\n",
            "Epoch 59/200\n",
            "48000/48000 [==============================] - 2s 43us/step - loss: 0.3143 - accuracy: 0.9128 - val_loss: 0.3022 - val_accuracy: 0.9151\n",
            "Epoch 60/200\n",
            "48000/48000 [==============================] - 2s 43us/step - loss: 0.3136 - accuracy: 0.9129 - val_loss: 0.3016 - val_accuracy: 0.9161\n",
            "Epoch 61/200\n",
            "48000/48000 [==============================] - 2s 42us/step - loss: 0.3130 - accuracy: 0.9132 - val_loss: 0.3011 - val_accuracy: 0.9158\n",
            "Epoch 62/200\n",
            "48000/48000 [==============================] - 2s 42us/step - loss: 0.3123 - accuracy: 0.9131 - val_loss: 0.3007 - val_accuracy: 0.9152\n",
            "Epoch 63/200\n",
            "48000/48000 [==============================] - 2s 43us/step - loss: 0.3117 - accuracy: 0.9135 - val_loss: 0.3003 - val_accuracy: 0.9157\n",
            "Epoch 64/200\n",
            "48000/48000 [==============================] - 2s 42us/step - loss: 0.3111 - accuracy: 0.9136 - val_loss: 0.2997 - val_accuracy: 0.9158\n",
            "Epoch 65/200\n",
            "48000/48000 [==============================] - 2s 43us/step - loss: 0.3105 - accuracy: 0.9137 - val_loss: 0.2992 - val_accuracy: 0.9159\n",
            "Epoch 66/200\n",
            "48000/48000 [==============================] - 2s 43us/step - loss: 0.3099 - accuracy: 0.9138 - val_loss: 0.2988 - val_accuracy: 0.9159\n",
            "Epoch 67/200\n",
            "48000/48000 [==============================] - 2s 43us/step - loss: 0.3093 - accuracy: 0.9142 - val_loss: 0.2984 - val_accuracy: 0.9164\n",
            "Epoch 68/200\n",
            "48000/48000 [==============================] - 2s 43us/step - loss: 0.3088 - accuracy: 0.9139 - val_loss: 0.2979 - val_accuracy: 0.9166\n",
            "Epoch 69/200\n",
            "48000/48000 [==============================] - 2s 44us/step - loss: 0.3082 - accuracy: 0.9143 - val_loss: 0.2976 - val_accuracy: 0.9165\n",
            "Epoch 70/200\n",
            "48000/48000 [==============================] - 2s 43us/step - loss: 0.3077 - accuracy: 0.9145 - val_loss: 0.2971 - val_accuracy: 0.9167\n",
            "Epoch 71/200\n",
            "48000/48000 [==============================] - 2s 52us/step - loss: 0.3071 - accuracy: 0.9146 - val_loss: 0.2967 - val_accuracy: 0.9172\n",
            "Epoch 72/200\n",
            "48000/48000 [==============================] - 3s 53us/step - loss: 0.3067 - accuracy: 0.9146 - val_loss: 0.2964 - val_accuracy: 0.9167\n",
            "Epoch 73/200\n",
            "48000/48000 [==============================] - 2s 43us/step - loss: 0.3061 - accuracy: 0.9150 - val_loss: 0.2961 - val_accuracy: 0.9170\n",
            "Epoch 74/200\n",
            "48000/48000 [==============================] - 2s 43us/step - loss: 0.3056 - accuracy: 0.9150 - val_loss: 0.2956 - val_accuracy: 0.9171\n",
            "Epoch 75/200\n",
            "48000/48000 [==============================] - 2s 44us/step - loss: 0.3051 - accuracy: 0.9151 - val_loss: 0.2953 - val_accuracy: 0.9178\n",
            "Epoch 76/200\n",
            "48000/48000 [==============================] - 2s 43us/step - loss: 0.3047 - accuracy: 0.9152 - val_loss: 0.2950 - val_accuracy: 0.9173\n",
            "Epoch 77/200\n",
            "48000/48000 [==============================] - 2s 44us/step - loss: 0.3042 - accuracy: 0.9154 - val_loss: 0.2946 - val_accuracy: 0.9171\n",
            "Epoch 78/200\n",
            "48000/48000 [==============================] - 2s 48us/step - loss: 0.3037 - accuracy: 0.9154 - val_loss: 0.2943 - val_accuracy: 0.9177\n",
            "Epoch 79/200\n",
            "48000/48000 [==============================] - 2s 43us/step - loss: 0.3033 - accuracy: 0.9157 - val_loss: 0.2939 - val_accuracy: 0.9178\n",
            "Epoch 80/200\n",
            "48000/48000 [==============================] - 2s 49us/step - loss: 0.3029 - accuracy: 0.9156 - val_loss: 0.2936 - val_accuracy: 0.9179\n",
            "Epoch 81/200\n",
            "48000/48000 [==============================] - 2s 43us/step - loss: 0.3024 - accuracy: 0.9157 - val_loss: 0.2933 - val_accuracy: 0.9180\n",
            "Epoch 82/200\n",
            "48000/48000 [==============================] - 2s 43us/step - loss: 0.3020 - accuracy: 0.9158 - val_loss: 0.2930 - val_accuracy: 0.9181\n",
            "Epoch 83/200\n",
            "48000/48000 [==============================] - 2s 43us/step - loss: 0.3015 - accuracy: 0.9160 - val_loss: 0.2927 - val_accuracy: 0.9182\n",
            "Epoch 84/200\n",
            "48000/48000 [==============================] - 2s 43us/step - loss: 0.3011 - accuracy: 0.9160 - val_loss: 0.2924 - val_accuracy: 0.9183\n",
            "Epoch 85/200\n",
            "48000/48000 [==============================] - 2s 43us/step - loss: 0.3007 - accuracy: 0.9165 - val_loss: 0.2920 - val_accuracy: 0.9184\n",
            "Epoch 86/200\n",
            "48000/48000 [==============================] - 2s 43us/step - loss: 0.3003 - accuracy: 0.9164 - val_loss: 0.2918 - val_accuracy: 0.9186\n",
            "Epoch 87/200\n",
            "48000/48000 [==============================] - 2s 44us/step - loss: 0.3000 - accuracy: 0.9165 - val_loss: 0.2915 - val_accuracy: 0.9187\n",
            "Epoch 88/200\n",
            "48000/48000 [==============================] - 2s 43us/step - loss: 0.2996 - accuracy: 0.9168 - val_loss: 0.2911 - val_accuracy: 0.9190\n",
            "Epoch 89/200\n",
            "48000/48000 [==============================] - 2s 44us/step - loss: 0.2992 - accuracy: 0.9168 - val_loss: 0.2909 - val_accuracy: 0.9191\n",
            "Epoch 90/200\n",
            "48000/48000 [==============================] - 2s 45us/step - loss: 0.2988 - accuracy: 0.9170 - val_loss: 0.2907 - val_accuracy: 0.9191\n",
            "Epoch 91/200\n",
            "48000/48000 [==============================] - 2s 47us/step - loss: 0.2985 - accuracy: 0.9167 - val_loss: 0.2903 - val_accuracy: 0.9193\n",
            "Epoch 92/200\n",
            "48000/48000 [==============================] - 2s 46us/step - loss: 0.2981 - accuracy: 0.9170 - val_loss: 0.2901 - val_accuracy: 0.9196\n",
            "Epoch 93/200\n",
            "48000/48000 [==============================] - 2s 45us/step - loss: 0.2977 - accuracy: 0.9171 - val_loss: 0.2898 - val_accuracy: 0.9196\n",
            "Epoch 94/200\n",
            "48000/48000 [==============================] - 2s 48us/step - loss: 0.2974 - accuracy: 0.9172 - val_loss: 0.2896 - val_accuracy: 0.9196\n",
            "Epoch 95/200\n",
            "48000/48000 [==============================] - 3s 56us/step - loss: 0.2970 - accuracy: 0.9174 - val_loss: 0.2894 - val_accuracy: 0.9196\n",
            "Epoch 96/200\n",
            "48000/48000 [==============================] - 3s 54us/step - loss: 0.2967 - accuracy: 0.9174 - val_loss: 0.2891 - val_accuracy: 0.9198\n",
            "Epoch 97/200\n",
            "48000/48000 [==============================] - 2s 45us/step - loss: 0.2964 - accuracy: 0.9177 - val_loss: 0.2889 - val_accuracy: 0.9197\n",
            "Epoch 98/200\n",
            "48000/48000 [==============================] - 2s 47us/step - loss: 0.2960 - accuracy: 0.9174 - val_loss: 0.2886 - val_accuracy: 0.9201\n",
            "Epoch 99/200\n",
            "48000/48000 [==============================] - 2s 52us/step - loss: 0.2957 - accuracy: 0.9176 - val_loss: 0.2884 - val_accuracy: 0.9200\n",
            "Epoch 100/200\n",
            "48000/48000 [==============================] - 3s 57us/step - loss: 0.2954 - accuracy: 0.9178 - val_loss: 0.2882 - val_accuracy: 0.9202\n",
            "Epoch 101/200\n",
            "48000/48000 [==============================] - 3s 55us/step - loss: 0.2951 - accuracy: 0.9179 - val_loss: 0.2879 - val_accuracy: 0.9202\n",
            "Epoch 102/200\n",
            "48000/48000 [==============================] - 3s 52us/step - loss: 0.2948 - accuracy: 0.9179 - val_loss: 0.2877 - val_accuracy: 0.9202\n",
            "Epoch 103/200\n",
            "48000/48000 [==============================] - 2s 49us/step - loss: 0.2945 - accuracy: 0.9180 - val_loss: 0.2876 - val_accuracy: 0.9202\n",
            "Epoch 104/200\n",
            "48000/48000 [==============================] - 3s 57us/step - loss: 0.2941 - accuracy: 0.9183 - val_loss: 0.2874 - val_accuracy: 0.9202\n",
            "Epoch 105/200\n",
            "48000/48000 [==============================] - 3s 56us/step - loss: 0.2939 - accuracy: 0.9183 - val_loss: 0.2871 - val_accuracy: 0.9205\n",
            "Epoch 106/200\n",
            "48000/48000 [==============================] - 3s 57us/step - loss: 0.2936 - accuracy: 0.9183 - val_loss: 0.2869 - val_accuracy: 0.9202\n",
            "Epoch 107/200\n",
            "48000/48000 [==============================] - 3s 60us/step - loss: 0.2932 - accuracy: 0.9186 - val_loss: 0.2867 - val_accuracy: 0.9206\n",
            "Epoch 108/200\n",
            "48000/48000 [==============================] - 3s 63us/step - loss: 0.2930 - accuracy: 0.9185 - val_loss: 0.2864 - val_accuracy: 0.9209\n",
            "Epoch 109/200\n",
            "48000/48000 [==============================] - 3s 59us/step - loss: 0.2927 - accuracy: 0.9185 - val_loss: 0.2863 - val_accuracy: 0.9204\n",
            "Epoch 110/200\n",
            "48000/48000 [==============================] - 2s 48us/step - loss: 0.2924 - accuracy: 0.9187 - val_loss: 0.2861 - val_accuracy: 0.9204\n"
          ],
          "name": "stdout"
        },
        {
          "output_type": "stream",
          "text": [
            "Epoch 111/200\n",
            "48000/48000 [==============================] - 2s 47us/step - loss: 0.2922 - accuracy: 0.9183 - val_loss: 0.2858 - val_accuracy: 0.9209\n",
            "Epoch 112/200\n",
            "48000/48000 [==============================] - 2s 46us/step - loss: 0.2919 - accuracy: 0.9187 - val_loss: 0.2857 - val_accuracy: 0.9207\n",
            "Epoch 113/200\n",
            "48000/48000 [==============================] - 2s 45us/step - loss: 0.2916 - accuracy: 0.9189 - val_loss: 0.2855 - val_accuracy: 0.9210\n",
            "Epoch 114/200\n",
            "48000/48000 [==============================] - 2s 45us/step - loss: 0.2913 - accuracy: 0.9188 - val_loss: 0.2853 - val_accuracy: 0.9212\n",
            "Epoch 115/200\n",
            "48000/48000 [==============================] - 2s 45us/step - loss: 0.2911 - accuracy: 0.9189 - val_loss: 0.2853 - val_accuracy: 0.9206\n",
            "Epoch 116/200\n",
            "48000/48000 [==============================] - 2s 52us/step - loss: 0.2908 - accuracy: 0.9190 - val_loss: 0.2849 - val_accuracy: 0.9213\n",
            "Epoch 117/200\n",
            "48000/48000 [==============================] - 2s 50us/step - loss: 0.2906 - accuracy: 0.9193 - val_loss: 0.2848 - val_accuracy: 0.9214\n",
            "Epoch 118/200\n",
            "48000/48000 [==============================] - 2s 47us/step - loss: 0.2903 - accuracy: 0.9193 - val_loss: 0.2846 - val_accuracy: 0.9213\n",
            "Epoch 119/200\n",
            "48000/48000 [==============================] - 2s 44us/step - loss: 0.2901 - accuracy: 0.9193 - val_loss: 0.2845 - val_accuracy: 0.9211\n",
            "Epoch 120/200\n",
            "48000/48000 [==============================] - 2s 43us/step - loss: 0.2898 - accuracy: 0.9192 - val_loss: 0.2843 - val_accuracy: 0.9213\n",
            "Epoch 121/200\n",
            "48000/48000 [==============================] - 2s 44us/step - loss: 0.2896 - accuracy: 0.9191 - val_loss: 0.2841 - val_accuracy: 0.9212\n",
            "Epoch 122/200\n",
            "48000/48000 [==============================] - 2s 43us/step - loss: 0.2893 - accuracy: 0.9192 - val_loss: 0.2840 - val_accuracy: 0.9212\n",
            "Epoch 123/200\n",
            "48000/48000 [==============================] - 2s 43us/step - loss: 0.2891 - accuracy: 0.9194 - val_loss: 0.2839 - val_accuracy: 0.9211\n",
            "Epoch 124/200\n",
            "48000/48000 [==============================] - 2s 43us/step - loss: 0.2888 - accuracy: 0.9197 - val_loss: 0.2837 - val_accuracy: 0.9210\n",
            "Epoch 125/200\n",
            "48000/48000 [==============================] - 2s 43us/step - loss: 0.2886 - accuracy: 0.9193 - val_loss: 0.2835 - val_accuracy: 0.9207\n",
            "Epoch 126/200\n",
            "48000/48000 [==============================] - 2s 46us/step - loss: 0.2884 - accuracy: 0.9196 - val_loss: 0.2834 - val_accuracy: 0.9218\n",
            "Epoch 127/200\n",
            "48000/48000 [==============================] - 2s 45us/step - loss: 0.2882 - accuracy: 0.9194 - val_loss: 0.2833 - val_accuracy: 0.9211\n",
            "Epoch 128/200\n",
            "48000/48000 [==============================] - 2s 45us/step - loss: 0.2879 - accuracy: 0.9194 - val_loss: 0.2830 - val_accuracy: 0.9211\n",
            "Epoch 129/200\n",
            "48000/48000 [==============================] - 2s 44us/step - loss: 0.2877 - accuracy: 0.9196 - val_loss: 0.2828 - val_accuracy: 0.9216\n",
            "Epoch 130/200\n",
            "48000/48000 [==============================] - 2s 44us/step - loss: 0.2875 - accuracy: 0.9197 - val_loss: 0.2827 - val_accuracy: 0.9215\n",
            "Epoch 131/200\n",
            "48000/48000 [==============================] - 2s 49us/step - loss: 0.2872 - accuracy: 0.9199 - val_loss: 0.2827 - val_accuracy: 0.9211\n",
            "Epoch 132/200\n",
            "48000/48000 [==============================] - 2s 48us/step - loss: 0.2870 - accuracy: 0.9196 - val_loss: 0.2824 - val_accuracy: 0.9213\n",
            "Epoch 133/200\n",
            "48000/48000 [==============================] - 3s 55us/step - loss: 0.2868 - accuracy: 0.9197 - val_loss: 0.2823 - val_accuracy: 0.9216\n",
            "Epoch 134/200\n",
            "48000/48000 [==============================] - 3s 58us/step - loss: 0.2866 - accuracy: 0.9198 - val_loss: 0.2822 - val_accuracy: 0.9213\n",
            "Epoch 135/200\n",
            "48000/48000 [==============================] - 3s 56us/step - loss: 0.2864 - accuracy: 0.9202 - val_loss: 0.2821 - val_accuracy: 0.9215\n",
            "Epoch 136/200\n",
            "48000/48000 [==============================] - 3s 53us/step - loss: 0.2862 - accuracy: 0.9197 - val_loss: 0.2819 - val_accuracy: 0.9213\n",
            "Epoch 137/200\n",
            "48000/48000 [==============================] - 2s 49us/step - loss: 0.2860 - accuracy: 0.9198 - val_loss: 0.2818 - val_accuracy: 0.9215\n",
            "Epoch 138/200\n",
            "48000/48000 [==============================] - 2s 49us/step - loss: 0.2858 - accuracy: 0.9202 - val_loss: 0.2816 - val_accuracy: 0.9218\n",
            "Epoch 139/200\n",
            "48000/48000 [==============================] - 2s 51us/step - loss: 0.2856 - accuracy: 0.9202 - val_loss: 0.2815 - val_accuracy: 0.9217\n",
            "Epoch 140/200\n",
            "48000/48000 [==============================] - 2s 52us/step - loss: 0.2854 - accuracy: 0.9201 - val_loss: 0.2813 - val_accuracy: 0.9215\n",
            "Epoch 141/200\n",
            "48000/48000 [==============================] - 2s 44us/step - loss: 0.2852 - accuracy: 0.9203 - val_loss: 0.2812 - val_accuracy: 0.9216\n",
            "Epoch 142/200\n",
            "48000/48000 [==============================] - 2s 50us/step - loss: 0.2850 - accuracy: 0.9201 - val_loss: 0.2811 - val_accuracy: 0.9218\n",
            "Epoch 143/200\n",
            "48000/48000 [==============================] - 2s 46us/step - loss: 0.2848 - accuracy: 0.9205 - val_loss: 0.2810 - val_accuracy: 0.9219\n",
            "Epoch 144/200\n",
            "48000/48000 [==============================] - 2s 51us/step - loss: 0.2846 - accuracy: 0.9207 - val_loss: 0.2809 - val_accuracy: 0.9217\n",
            "Epoch 145/200\n",
            "48000/48000 [==============================] - 3s 56us/step - loss: 0.2845 - accuracy: 0.9208 - val_loss: 0.2807 - val_accuracy: 0.9219\n",
            "Epoch 146/200\n",
            "48000/48000 [==============================] - 2s 48us/step - loss: 0.2842 - accuracy: 0.9206 - val_loss: 0.2806 - val_accuracy: 0.9220\n",
            "Epoch 147/200\n",
            "48000/48000 [==============================] - 2s 52us/step - loss: 0.2841 - accuracy: 0.9206 - val_loss: 0.2804 - val_accuracy: 0.9218\n",
            "Epoch 148/200\n",
            "48000/48000 [==============================] - 2s 42us/step - loss: 0.2839 - accuracy: 0.9209 - val_loss: 0.2804 - val_accuracy: 0.9219\n",
            "Epoch 149/200\n",
            "48000/48000 [==============================] - 2s 42us/step - loss: 0.2837 - accuracy: 0.9209 - val_loss: 0.2802 - val_accuracy: 0.9218\n",
            "Epoch 150/200\n",
            "48000/48000 [==============================] - 3s 63us/step - loss: 0.2835 - accuracy: 0.9208 - val_loss: 0.2801 - val_accuracy: 0.9222\n",
            "Epoch 151/200\n",
            "48000/48000 [==============================] - 2s 48us/step - loss: 0.2834 - accuracy: 0.9210 - val_loss: 0.2800 - val_accuracy: 0.9225\n",
            "Epoch 152/200\n",
            "48000/48000 [==============================] - 3s 57us/step - loss: 0.2832 - accuracy: 0.9211 - val_loss: 0.2799 - val_accuracy: 0.9222\n",
            "Epoch 153/200\n",
            "48000/48000 [==============================] - 4s 75us/step - loss: 0.2830 - accuracy: 0.9207 - val_loss: 0.2797 - val_accuracy: 0.9223\n",
            "Epoch 154/200\n",
            "48000/48000 [==============================] - 4s 76us/step - loss: 0.2828 - accuracy: 0.9209 - val_loss: 0.2796 - val_accuracy: 0.9221\n",
            "Epoch 155/200\n",
            "48000/48000 [==============================] - 4s 83us/step - loss: 0.2826 - accuracy: 0.9208 - val_loss: 0.2795 - val_accuracy: 0.9223\n",
            "Epoch 156/200\n",
            "48000/48000 [==============================] - 2s 52us/step - loss: 0.2825 - accuracy: 0.9211 - val_loss: 0.2794 - val_accuracy: 0.9223\n",
            "Epoch 157/200\n",
            "48000/48000 [==============================] - 3s 60us/step - loss: 0.2823 - accuracy: 0.9211 - val_loss: 0.2793 - val_accuracy: 0.9225\n",
            "Epoch 158/200\n",
            "48000/48000 [==============================] - 3s 57us/step - loss: 0.2821 - accuracy: 0.9212 - val_loss: 0.2792 - val_accuracy: 0.9224\n",
            "Epoch 159/200\n",
            "48000/48000 [==============================] - 2s 51us/step - loss: 0.2820 - accuracy: 0.9213 - val_loss: 0.2791 - val_accuracy: 0.9223\n",
            "Epoch 160/200\n",
            "48000/48000 [==============================] - 2s 51us/step - loss: 0.2818 - accuracy: 0.9212 - val_loss: 0.2790 - val_accuracy: 0.9224\n",
            "Epoch 161/200\n",
            "48000/48000 [==============================] - 2s 51us/step - loss: 0.2816 - accuracy: 0.9213 - val_loss: 0.2789 - val_accuracy: 0.9222\n",
            "Epoch 162/200\n",
            "48000/48000 [==============================] - 5s 95us/step - loss: 0.2815 - accuracy: 0.9216 - val_loss: 0.2789 - val_accuracy: 0.9227\n",
            "Epoch 163/200\n",
            "48000/48000 [==============================] - 4s 85us/step - loss: 0.2813 - accuracy: 0.9212 - val_loss: 0.2788 - val_accuracy: 0.9224\n",
            "Epoch 164/200\n",
            "48000/48000 [==============================] - 3s 67us/step - loss: 0.2812 - accuracy: 0.9216 - val_loss: 0.2786 - val_accuracy: 0.9225\n",
            "Epoch 165/200\n"
          ],
          "name": "stdout"
        },
        {
          "output_type": "stream",
          "text": [
            "48000/48000 [==============================] - 3s 55us/step - loss: 0.2810 - accuracy: 0.9215 - val_loss: 0.2785 - val_accuracy: 0.9229\n",
            "Epoch 166/200\n",
            "48000/48000 [==============================] - 3s 60us/step - loss: 0.2808 - accuracy: 0.9215 - val_loss: 0.2785 - val_accuracy: 0.9225\n",
            "Epoch 167/200\n",
            "48000/48000 [==============================] - 2s 51us/step - loss: 0.2807 - accuracy: 0.9217 - val_loss: 0.2784 - val_accuracy: 0.9227\n",
            "Epoch 168/200\n",
            "48000/48000 [==============================] - 2s 46us/step - loss: 0.2805 - accuracy: 0.9219 - val_loss: 0.2783 - val_accuracy: 0.9227\n",
            "Epoch 169/200\n",
            "48000/48000 [==============================] - 3s 53us/step - loss: 0.2804 - accuracy: 0.9217 - val_loss: 0.2782 - val_accuracy: 0.9227\n",
            "Epoch 170/200\n",
            "48000/48000 [==============================] - 3s 61us/step - loss: 0.2802 - accuracy: 0.9217 - val_loss: 0.2781 - val_accuracy: 0.9226\n",
            "Epoch 171/200\n",
            "48000/48000 [==============================] - 3s 53us/step - loss: 0.2801 - accuracy: 0.9219 - val_loss: 0.2780 - val_accuracy: 0.9226\n",
            "Epoch 172/200\n",
            "48000/48000 [==============================] - 3s 61us/step - loss: 0.2799 - accuracy: 0.9218 - val_loss: 0.2779 - val_accuracy: 0.9230\n",
            "Epoch 173/200\n",
            "48000/48000 [==============================] - 2s 49us/step - loss: 0.2798 - accuracy: 0.9216 - val_loss: 0.2778 - val_accuracy: 0.9230\n",
            "Epoch 174/200\n",
            "48000/48000 [==============================] - 2s 47us/step - loss: 0.2796 - accuracy: 0.9217 - val_loss: 0.2777 - val_accuracy: 0.9226\n",
            "Epoch 175/200\n",
            "48000/48000 [==============================] - 2s 46us/step - loss: 0.2795 - accuracy: 0.9218 - val_loss: 0.2776 - val_accuracy: 0.9229\n",
            "Epoch 176/200\n",
            "48000/48000 [==============================] - 2s 46us/step - loss: 0.2793 - accuracy: 0.9220 - val_loss: 0.2775 - val_accuracy: 0.9231\n",
            "Epoch 177/200\n",
            "48000/48000 [==============================] - 2s 46us/step - loss: 0.2792 - accuracy: 0.9219 - val_loss: 0.2774 - val_accuracy: 0.9236\n",
            "Epoch 178/200\n",
            "48000/48000 [==============================] - 2s 46us/step - loss: 0.2790 - accuracy: 0.9221 - val_loss: 0.2775 - val_accuracy: 0.9227\n",
            "Epoch 179/200\n",
            "48000/48000 [==============================] - 2s 46us/step - loss: 0.2789 - accuracy: 0.9223 - val_loss: 0.2773 - val_accuracy: 0.9235\n",
            "Epoch 180/200\n",
            "48000/48000 [==============================] - 2s 46us/step - loss: 0.2788 - accuracy: 0.9222 - val_loss: 0.2772 - val_accuracy: 0.9236\n",
            "Epoch 181/200\n",
            "48000/48000 [==============================] - 2s 47us/step - loss: 0.2786 - accuracy: 0.9224 - val_loss: 0.2771 - val_accuracy: 0.9232\n",
            "Epoch 182/200\n",
            "48000/48000 [==============================] - 3s 52us/step - loss: 0.2785 - accuracy: 0.9221 - val_loss: 0.2770 - val_accuracy: 0.9231\n",
            "Epoch 183/200\n",
            "48000/48000 [==============================] - 3s 57us/step - loss: 0.2784 - accuracy: 0.9223 - val_loss: 0.2770 - val_accuracy: 0.9229\n",
            "Epoch 184/200\n",
            "48000/48000 [==============================] - 3s 54us/step - loss: 0.2782 - accuracy: 0.9224 - val_loss: 0.2768 - val_accuracy: 0.9233\n",
            "Epoch 185/200\n",
            "48000/48000 [==============================] - 3s 52us/step - loss: 0.2781 - accuracy: 0.9224 - val_loss: 0.2768 - val_accuracy: 0.9232\n",
            "Epoch 186/200\n",
            "48000/48000 [==============================] - 2s 48us/step - loss: 0.2779 - accuracy: 0.9224 - val_loss: 0.2766 - val_accuracy: 0.9237\n",
            "Epoch 187/200\n",
            "48000/48000 [==============================] - 2s 49us/step - loss: 0.2778 - accuracy: 0.9225 - val_loss: 0.2766 - val_accuracy: 0.9233\n",
            "Epoch 188/200\n",
            "48000/48000 [==============================] - 2s 49us/step - loss: 0.2777 - accuracy: 0.9226 - val_loss: 0.2765 - val_accuracy: 0.9234\n",
            "Epoch 189/200\n",
            "48000/48000 [==============================] - 2s 41us/step - loss: 0.2775 - accuracy: 0.9226 - val_loss: 0.2765 - val_accuracy: 0.9233\n",
            "Epoch 190/200\n",
            "48000/48000 [==============================] - 2s 43us/step - loss: 0.2774 - accuracy: 0.9225 - val_loss: 0.2764 - val_accuracy: 0.9233\n",
            "Epoch 191/200\n",
            "48000/48000 [==============================] - 2s 45us/step - loss: 0.2773 - accuracy: 0.9225 - val_loss: 0.2763 - val_accuracy: 0.9237\n",
            "Epoch 192/200\n",
            "48000/48000 [==============================] - 2s 41us/step - loss: 0.2771 - accuracy: 0.9226 - val_loss: 0.2762 - val_accuracy: 0.9237\n",
            "Epoch 193/200\n",
            "48000/48000 [==============================] - 2s 46us/step - loss: 0.2771 - accuracy: 0.9227 - val_loss: 0.2761 - val_accuracy: 0.9235\n",
            "Epoch 194/200\n",
            "48000/48000 [==============================] - 2s 40us/step - loss: 0.2769 - accuracy: 0.9225 - val_loss: 0.2761 - val_accuracy: 0.9234\n",
            "Epoch 195/200\n",
            "48000/48000 [==============================] - 2s 40us/step - loss: 0.2768 - accuracy: 0.9231 - val_loss: 0.2760 - val_accuracy: 0.9238\n",
            "Epoch 196/200\n",
            "48000/48000 [==============================] - 2s 40us/step - loss: 0.2766 - accuracy: 0.9228 - val_loss: 0.2759 - val_accuracy: 0.9239\n",
            "Epoch 197/200\n",
            "48000/48000 [==============================] - 2s 40us/step - loss: 0.2765 - accuracy: 0.9228 - val_loss: 0.2759 - val_accuracy: 0.9241\n",
            "Epoch 198/200\n",
            "48000/48000 [==============================] - 2s 40us/step - loss: 0.2764 - accuracy: 0.9231 - val_loss: 0.2758 - val_accuracy: 0.9235\n",
            "Epoch 199/200\n",
            "48000/48000 [==============================] - 2s 40us/step - loss: 0.2763 - accuracy: 0.9229 - val_loss: 0.2758 - val_accuracy: 0.9240\n",
            "Epoch 200/200\n",
            "48000/48000 [==============================] - 2s 43us/step - loss: 0.2761 - accuracy: 0.9231 - val_loss: 0.2757 - val_accuracy: 0.9241\n"
          ],
          "name": "stdout"
        }
      ]
    },
    {
      "cell_type": "code",
      "metadata": {
        "id": "_Za7hBf-vzwb",
        "colab_type": "code",
        "colab": {},
        "outputId": "9ed77717-41fd-451c-a3c8-9152409ae893"
      },
      "source": [
        "score = model.evaluate(X_test, Y_test, verbose=VERBOSE)\n",
        "print(\"Teste de escore:\", score[0])\n",
        "print('Teste precisión:', score[1])"
      ],
      "execution_count": 0,
      "outputs": [
        {
          "output_type": "stream",
          "text": [
            "10000/10000 [==============================] - 1s 64us/step\n",
            "Teste de escore: 0.27738100505769253\n",
            "Teste precisión: 0.9225000143051147\n"
          ],
          "name": "stdout"
        }
      ]
    },
    {
      "cell_type": "markdown",
      "metadata": {
        "id": "rJLWbmvlvzwj",
        "colab_type": "text"
      },
      "source": [
        "## Ejemplo 2 - Tensorflow"
      ]
    },
    {
      "cell_type": "code",
      "metadata": {
        "id": "8I0HM9xWvzwm",
        "colab_type": "code",
        "colab": {}
      },
      "source": [
        "# Tensorflow\n",
        "import numpy as np\n",
        "import tensorflow as tf # tensorflow\n",
        "from keras.layers import Activation, Dense\n",
        "from keras.models import Sequential\n",
        "#\n",
        "from keras.optimizers import SGD\n",
        "from keras.utils import np_utils\n",
        "np.random.seed(1671) # for reproducibility"
      ],
      "execution_count": 0,
      "outputs": []
    },
    {
      "cell_type": "markdown",
      "metadata": {
        "id": "_wZaT-nivzws",
        "colab_type": "text"
      },
      "source": [
        "### Ativación"
      ]
    },
    {
      "cell_type": "code",
      "metadata": {
        "id": "1alKG-Y0vzwu",
        "colab_type": "code",
        "colab": {}
      },
      "source": [
        "import tensorflow.compat.v1 as tfc\n",
        "sess = tfc.InteractiveSession()\n",
        "#tf.InteractiveSession()"
      ],
      "execution_count": 0,
      "outputs": []
    },
    {
      "cell_type": "markdown",
      "metadata": {
        "id": "IPnn_WkAvzxP",
        "colab_type": "text"
      },
      "source": [
        "### Define el tensorflow"
      ]
    },
    {
      "cell_type": "code",
      "metadata": {
        "id": "AINgaoZGvzxR",
        "colab_type": "code",
        "colab": {},
        "outputId": "ffa6860b-828a-43bd-d394-37d16f77314b"
      },
      "source": [
        "a = tfc.zeros((2,2));\n",
        "b = tfc.ones((2,2))\n",
        "print('a =',a)\n",
        "print('b =',b)\n",
        "# matriz de 4 x 4\n",
        "my_tensor = tfc.random_uniform((4, 4), 0, 1)\n",
        "print('MTF = ',my_tensor)\n",
        "mtf = tfc.random_uniform((8, 4), 0, 1)\n",
        "print('MTF = ',mtf)"
      ],
      "execution_count": 0,
      "outputs": [
        {
          "output_type": "stream",
          "text": [
            "a = tf.Tensor(\n",
            "[[0. 0.]\n",
            " [0. 0.]], shape=(2, 2), dtype=float32)\n",
            "b = tf.Tensor(\n",
            "[[1. 1.]\n",
            " [1. 1.]], shape=(2, 2), dtype=float32)\n",
            "MTF =  tf.Tensor(\n",
            "[[0.694355   0.6712259  0.05648172 0.155231  ]\n",
            " [0.51512754 0.05355239 0.949628   0.64937615]\n",
            " [0.29666936 0.18530798 0.1556176  0.2856332 ]\n",
            " [0.72291243 0.30500567 0.63851273 0.7518152 ]], shape=(4, 4), dtype=float32)\n",
            "MTF =  tf.Tensor(\n",
            "[[0.76596344 0.62523234 0.1597569  0.13259685]\n",
            " [0.36473525 0.02367711 0.781121   0.88834417]\n",
            " [0.51170456 0.25561237 0.3578694  0.16334832]\n",
            " [0.82001495 0.23723257 0.73076284 0.25448155]\n",
            " [0.78167367 0.84630203 0.91765857 0.93548715]\n",
            " [0.1883837  0.2622397  0.44603896 0.70673287]\n",
            " [0.3248142  0.62689984 0.44797873 0.6378888 ]\n",
            " [0.29057574 0.7102716  0.57152236 0.6982354 ]], shape=(8, 4), dtype=float32)\n"
          ],
          "name": "stdout"
        }
      ]
    },
    {
      "cell_type": "markdown",
      "metadata": {
        "id": "y5BCSIo6vzxY",
        "colab_type": "text"
      },
      "source": [
        "### Operaciones"
      ]
    },
    {
      "cell_type": "code",
      "metadata": {
        "id": "TxcxT6APvzxa",
        "colab_type": "code",
        "colab": {},
        "outputId": "af79f780-edcc-4b51-f911-8ba3a3b02cce"
      },
      "source": [
        "# Sumade elementos de una matriz 2D (2D Tensor) \n",
        "r = tfc.reduce_sum(b,reduction_indices = 1)\n",
        "print('R=',r)"
      ],
      "execution_count": 0,
      "outputs": [
        {
          "output_type": "stream",
          "text": [
            "R= tf.Tensor([2. 2.], shape=(2,), dtype=float32)\n"
          ],
          "name": "stdout"
        }
      ]
    },
    {
      "cell_type": "code",
      "metadata": {
        "id": "fZAyPpJbvzxn",
        "colab_type": "code",
        "colab": {},
        "outputId": "1f62e93d-c7ae-40d6-f3c9-4f76b016f592"
      },
      "source": [
        "a.get_shape()"
      ],
      "execution_count": 0,
      "outputs": [
        {
          "output_type": "execute_result",
          "data": {
            "text/plain": [
              "TensorShape([2, 2])"
            ]
          },
          "metadata": {
            "tags": []
          },
          "execution_count": 14
        }
      ]
    },
    {
      "cell_type": "markdown",
      "metadata": {
        "id": "0BcBRn3WvzyB",
        "colab_type": "text"
      },
      "source": [
        "# Reconocimiento de Imagenes"
      ]
    },
    {
      "cell_type": "markdown",
      "metadata": {
        "id": "v76CABJSvzyN",
        "colab_type": "text"
      },
      "source": [
        "## Objetivo\n",
        "\n",
        "![image.png](attachment:image.png)"
      ]
    },
    {
      "cell_type": "markdown",
      "metadata": {
        "id": "cl0St8hZvzyR",
        "colab_type": "text"
      },
      "source": [
        "## Caracteristica?\n",
        "\n",
        "![image.png](attachment:image.png)"
      ]
    },
    {
      "cell_type": "markdown",
      "metadata": {
        "id": "cZgHOPBVvzyT",
        "colab_type": "text"
      },
      "source": [
        "## Clasificador"
      ]
    },
    {
      "cell_type": "markdown",
      "metadata": {
        "id": "r5DSqS1QvzyV",
        "colab_type": "text"
      },
      "source": [
        "### clasificador lineal?\n",
        "![image.png](attachment:image.png)"
      ]
    },
    {
      "cell_type": "markdown",
      "metadata": {
        "id": "ycPncwY4vzyY",
        "colab_type": "text"
      },
      "source": [
        "## Clasificador\n",
        "\n",
        "![image.png](attachment:image.png)"
      ]
    },
    {
      "cell_type": "markdown",
      "metadata": {
        "id": "nZcyjFNKvzya",
        "colab_type": "text"
      },
      "source": [
        "## Conjunto de entrenamiento\n",
        "\n",
        "![image.png](attachment:image.png)"
      ]
    },
    {
      "cell_type": "markdown",
      "metadata": {
        "id": "YqLALItbvzye",
        "colab_type": "text"
      },
      "source": [
        "## Reconocimiento de imagenes clásica"
      ]
    },
    {
      "cell_type": "markdown",
      "metadata": {
        "id": "kyxm2XHAvzyi",
        "colab_type": "text"
      },
      "source": [
        "![image.png](attachment:image.png)"
      ]
    },
    {
      "cell_type": "markdown",
      "metadata": {
        "id": "ZVkLyNGKvzyu",
        "colab_type": "text"
      },
      "source": [
        "## Historia de los métodos de Visión Computacional"
      ]
    },
    {
      "cell_type": "markdown",
      "metadata": {
        "id": "DL57o_4avzyx",
        "colab_type": "text"
      },
      "source": [
        "- Descriptores de colores, forma y textura (1970 - 2000)\n",
        "- Escala invariante de caracteristicas (>1999)\n",
        "- Histograma de gradientes (>2005)\n",
        "- Bolsa de caracteristicas (>2004)\n",
        "- Piramide Espacial de Coincidencias (>2006)"
      ]
    },
    {
      "cell_type": "markdown",
      "metadata": {
        "id": "D6RWt7PFvzy0",
        "colab_type": "text"
      },
      "source": [
        "# Para verificar"
      ]
    },
    {
      "cell_type": "markdown",
      "metadata": {
        "id": "jKNvaiqqvzy9",
        "colab_type": "text"
      },
      "source": [
        "![image.png](attachment:image.png)"
      ]
    },
    {
      "cell_type": "markdown",
      "metadata": {
        "id": "PvP5sxIOvzzA",
        "colab_type": "text"
      },
      "source": [
        "imageNet Challenge: ~ 1.4 millones de imagenes, 1000 clases"
      ]
    },
    {
      "cell_type": "markdown",
      "metadata": {
        "id": "kZ2qjj_GvzzC",
        "colab_type": "text"
      },
      "source": [
        "## Para executar\n",
        "https://www.tensorflow.org/tutorials/keras/classification"
      ]
    }
  ]
}