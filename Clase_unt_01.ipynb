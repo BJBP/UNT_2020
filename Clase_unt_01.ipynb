{
 "cells": [
  {
   "cell_type": "markdown",
   "metadata": {
    "colab_type": "text",
    "id": "view-in-github"
   },
   "source": [
    "<a href=\"https://colab.research.google.com/github/zavaleta/UNT_2020/blob/master/Clase_unt_01.ipynb\" target=\"_parent\"><img src=\"https://colab.research.google.com/assets/colab-badge.svg\" alt=\"Open In Colab\"/></a>"
   ]
  },
  {
   "cell_type": "markdown",
   "metadata": {
    "colab_type": "text",
    "id": "T7Lmsv99PtXO"
   },
   "source": [
    "\n",
    "# Curso de Data Science\n",
    "## Universidad Nacional de Trujillo - Perú\n",
    "### Enero 08 a 15 de 2020\n",
    "#### Prof. Dr. Jorge Zavaleta\n",
    "##### zavaleta.jorge@gmail.com\n",
    "---"
   ]
  },
  {
   "cell_type": "markdown",
   "metadata": {
    "colab_type": "text",
    "id": "qQ-kBPbfQd9K"
   },
   "source": [
    "# Python"
   ]
  },
  {
   "cell_type": "markdown",
   "metadata": {
    "colab_type": "text",
    "id": "gDsxBeg0QYvD"
   },
   "source": [
    "**Python** es un lenguaje de programación de propósito general, projectada especificamente para tornar la programación mas fácil. Este lenguaje posee una amplia varidedad de bibliotecas tornando posible crear aplicaciones sofisticasdas usando código relativamente simple."
   ]
  },
  {
   "cell_type": "markdown",
   "metadata": {
    "colab_type": "text",
    "id": "obfqtzBiS-Oq"
   },
   "source": [
    "# Instalación del Ambiente de Desenvolvimiento Python"
   ]
  },
  {
   "cell_type": "markdown",
   "metadata": {
    "colab_type": "text",
    "id": "I78HORorTeOL"
   },
   "source": [
    "## Anaconda (Python 3.7 ou 2.7)\n",
    "Bajar e instalar en el computador con sistemas operacional windows o Linux o Mac.\n",
    "\n",
    "https://www.anaconda.com/distribution/"
   ]
  },
  {
   "cell_type": "markdown",
   "metadata": {
    "colab_type": "text",
    "id": "i0_6aT8jTlGz"
   },
   "source": [
    "# Jupyter Notebook\n",
    "El Jupyter Notebook es un ambiente interactivo para desenvolver programas online. Es instalado junto con el Anconda.\n",
    "\n",
    "- Desktop\n",
    "- Nuvem"
   ]
  },
  {
   "cell_type": "markdown",
   "metadata": {
    "colab_type": "text",
    "id": "piS_hu2OT1vL"
   },
   "source": [
    "## Colab\n",
    "Ambiente interactivo de desenvolvimento de programas en Python usando una conta do Google (Google Colaborativo).\n",
    "\n",
    "https://colab.research.google.com/"
   ]
  },
  {
   "cell_type": "markdown",
   "metadata": {
    "colab_type": "text",
    "id": "dBAL1r6tVYlU"
   },
   "source": [
    "# Otras Alternativas\n",
    "La programación en Python puede ser hecha usando un **IDE** (ambiente de Desenvolvimiento Integrado) tipo Spyder ou PyCharm."
   ]
  },
  {
   "cell_type": "markdown",
   "metadata": {
    "colab_type": "text",
    "id": "F6OKYEdxW-oK"
   },
   "source": [
    "# NotebooK\n",
    "\n",
    "Documento interactivo creado usando Jupyter y permite mesclar código python, texto e imagenes. La programación es directamente dentro del documento Notebook."
   ]
  },
  {
   "cell_type": "code",
   "execution_count": null,
   "metadata": {
    "colab": {
     "base_uri": "https://localhost:8080/",
     "height": 51
    },
    "colab_type": "code",
    "id": "6T74cFl5PjgX",
    "outputId": "faea1174-0fad-4fd3-ae03-7e67a42c2e75"
   },
   "outputs": [
    {
     "data": {
      "image/png": "[encoded data removed]",
      "text/plain": [
       "<IPython.core.display.Image object>"
      ]
     },
     "execution_count": 1,
     "metadata": {
      "tags": []
     },
     "output_type": "execute_result"
    }
   ],
   "source": [
    "## Adicionar uma imagem do Notebook dentro do Jupyter\n",
    "from IPython.display import display, Image, SVG, Math, YouTubeVideo\n",
    "i = Image(filename='jupyter_1.png')\n",
    "i"
   ]
  },
  {
   "cell_type": "markdown",
   "metadata": {
    "colab_type": "text",
    "id": "ZogcWOVVYFvr"
   },
   "source": [
    "El **Notebook** esta compuesto por celdas, como mostrado en la imagem anterior.\n",
    "é composto por células. Na imagem anterior, existe apenas uma única célula e seu conteúdo deverá ser obrigatoriamente código-fonte em Python (code)."
   ]
  }
 ],
 "metadata": {
  "colab": {
   "include_colab_link": true,
   "name": "Clase_unt_01.ipynb",
   "provenance": []
  },
  "kernelspec": {
   "display_name": "Python 3",
   "language": "python",
   "name": "python3"
  },
  "language_info": {
   "codemirror_mode": {
    "name": "ipython",
    "version": 3
   },
   "file_extension": ".py",
   "mimetype": "text/x-python",
   "name": "python",
   "nbconvert_exporter": "python",
   "pygments_lexer": "ipython3",
   "version": "3.7.6"
  }
 },
 "nbformat": 4,
 "nbformat_minor": 4
}
